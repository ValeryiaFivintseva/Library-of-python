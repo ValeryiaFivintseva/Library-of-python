{
 "cells": [
  {
   "cell_type": "markdown",
   "id": "02203328",
   "metadata": {},
   "source": [
    "Задание5**"
   ]
  },
  {
   "cell_type": "code",
   "execution_count": 3,
   "id": "a58ca442",
   "metadata": {},
   "outputs": [
    {
     "data": {
      "text/plain": [
       "array([12, 13, 14, 15, 16, 17, 18, 19, 20, 21, 22, 23])"
      ]
     },
     "execution_count": 3,
     "metadata": {},
     "output_type": "execute_result"
    }
   ],
   "source": [
    "# 1\n",
    "import numpy as np\n",
    "a = np.array([i for i in range(12, 24)])\n",
    "a"
   ]
  },
  {
   "cell_type": "code",
   "execution_count": 20,
   "id": "d4a7f864",
   "metadata": {},
   "outputs": [
    {
     "data": {
      "text/plain": [
       "(array([[12, 13, 14, 15],\n",
       "        [16, 17, 18, 19],\n",
       "        [20, 21, 22, 23]]),\n",
       " array([[12, 13, 14],\n",
       "        [15, 16, 17],\n",
       "        [18, 19, 20],\n",
       "        [21, 22, 23]]),\n",
       " array([[12, 13, 14, 15, 16, 17],\n",
       "        [18, 19, 20, 21, 22, 23]]),\n",
       " array([[12, 13],\n",
       "        [14, 15],\n",
       "        [16, 17],\n",
       "        [18, 19],\n",
       "        [20, 21],\n",
       "        [22, 23]]),\n",
       " array([[12],\n",
       "        [13],\n",
       "        [14],\n",
       "        [15],\n",
       "        [16],\n",
       "        [17],\n",
       "        [18],\n",
       "        [19],\n",
       "        [20],\n",
       "        [21],\n",
       "        [22],\n",
       "        [23]]))"
      ]
     },
     "execution_count": 20,
     "metadata": {},
     "output_type": "execute_result"
    }
   ],
   "source": [
    "# 2\n",
    "o = a.reshape(3, 4)\n",
    "t = a.reshape(4, 3)\n",
    "tr = a.reshape(2, 6)\n",
    "f = a.reshape(6, 2)\n",
    "v = a.reshape(12, 1)\n",
    "o, t, tr, f, v"
   ]
  },
  {
   "cell_type": "code",
   "execution_count": 24,
   "id": "d522c72b",
   "metadata": {},
   "outputs": [
    {
     "data": {
      "text/plain": [
       "(array([[12, 13, 14, 15],\n",
       "        [16, 17, 18, 19],\n",
       "        [20, 21, 22, 23]]),\n",
       " array([[12, 13, 14],\n",
       "        [15, 16, 17],\n",
       "        [18, 19, 20],\n",
       "        [21, 22, 23]]),\n",
       " array([[12, 13, 14, 15, 16, 17],\n",
       "        [18, 19, 20, 21, 22, 23]]),\n",
       " array([[12, 13],\n",
       "        [14, 15],\n",
       "        [16, 17],\n",
       "        [18, 19],\n",
       "        [20, 21],\n",
       "        [22, 23]]),\n",
       " array([[12],\n",
       "        [13],\n",
       "        [14],\n",
       "        [15],\n",
       "        [16],\n",
       "        [17],\n",
       "        [18],\n",
       "        [19],\n",
       "        [20],\n",
       "        [21],\n",
       "        [22],\n",
       "        [23]]))"
      ]
     },
     "execution_count": 24,
     "metadata": {},
     "output_type": "execute_result"
    }
   ],
   "source": [
    "# 3\n",
    "one = a.reshape(3, -1)\n",
    "two = a.reshape(4, -1)\n",
    "three = a.reshape(2, -1)\n",
    "four = a.reshape(-1, 2)\n",
    "five = a.reshape(-1, 1)\n",
    "one, two, three, four, five"
   ]
  },
  {
   "cell_type": "markdown",
   "id": "0b0db524",
   "metadata": {},
   "source": [
    "Массив Numpy, состоящий из одного столбца и 12 строк, назвать одномерным не можем."
   ]
  },
  {
   "cell_type": "code",
   "execution_count": 69,
   "id": "3b3d6466",
   "metadata": {},
   "outputs": [
    {
     "data": {
      "text/plain": [
       "array([[ 0.71182925, -0.47019107,  0.33321282, -1.12452787],\n",
       "       [-0.36599697,  3.09268931, -0.20187599, -0.44281577],\n",
       "       [ 0.19907467,  1.37860249, -0.03967818,  0.25444553]])"
      ]
     },
     "execution_count": 69,
     "metadata": {},
     "output_type": "execute_result"
    }
   ],
   "source": [
    "# 5\n",
    "b = np.random.randn(3, 4)\n",
    "bd = b.flatten()\n",
    "bd\n",
    "# почему-то у меня не работает все, что связано с size/resize (не находит такие функции)"
   ]
  },
  {
   "cell_type": "code",
   "execution_count": 50,
   "id": "1931bbcb",
   "metadata": {},
   "outputs": [
    {
     "data": {
      "text/plain": [
       "array([20, 18, 16, 14, 12, 10,  8,  6,  4,  2])"
      ]
     },
     "execution_count": 50,
     "metadata": {},
     "output_type": "execute_result"
    }
   ],
   "source": [
    "# 6\n",
    "a = np.arange(20, 0, -2)\n",
    "a"
   ]
  },
  {
   "cell_type": "code",
   "execution_count": 55,
   "id": "128826ff",
   "metadata": {},
   "outputs": [
    {
     "data": {
      "text/plain": [
       "array([[20, 18, 16, 14, 12, 10,  8,  6,  4,  2]])"
      ]
     },
     "execution_count": 55,
     "metadata": {},
     "output_type": "execute_result"
    }
   ],
   "source": [
    "# 7\n",
    "b = np.arange(20, 1, -2).reshape(1, 10)\n",
    "b"
   ]
  },
  {
   "cell_type": "markdown",
   "id": "0ace8c51",
   "metadata": {},
   "source": [
    "Разница между массивом а и b в том, что массив а одномерный, b - двумерный."
   ]
  },
  {
   "cell_type": "code",
   "execution_count": 73,
   "id": "d640e917",
   "metadata": {},
   "outputs": [
    {
     "data": {
      "text/plain": [
       "array([[0., 0.],\n",
       "       [0., 0.],\n",
       "       [1., 1.],\n",
       "       [1., 1.],\n",
       "       [1., 1.]])"
      ]
     },
     "execution_count": 73,
     "metadata": {},
     "output_type": "execute_result"
    }
   ],
   "source": [
    "# 8\n",
    "a = np.zeros((2, 2))\n",
    "b = np.ones((3, 2))\n",
    "v = np.concatenate((a, b), axis = 0)\n",
    "v"
   ]
  },
  {
   "cell_type": "code",
   "execution_count": 84,
   "id": "878f0ff9",
   "metadata": {},
   "outputs": [
    {
     "data": {
      "text/plain": [
       "(4, 4)"
      ]
     },
     "execution_count": 84,
     "metadata": {},
     "output_type": "execute_result"
    }
   ],
   "source": [
    "# 9\n",
    "a = np.arange(0, 12)\n",
    "A = a.reshape(4, 3)\n",
    "At = A.T\n",
    "B = np.dot(A, At)\n",
    "B.shape\n",
    "\n",
    "# Найти обратную матрицу матрице В невозможно, поскольку это сингулярная необратимая матрица, не имеющая единственного\n",
    "# уникального решения."
   ]
  },
  {
   "cell_type": "code",
   "execution_count": 87,
   "id": "53589ae4",
   "metadata": {},
   "outputs": [],
   "source": [
    "# 10\n",
    "np.random.seed(42)"
   ]
  },
  {
   "cell_type": "code",
   "execution_count": 88,
   "id": "93482ecd",
   "metadata": {},
   "outputs": [
    {
     "data": {
      "text/plain": [
       "array([ 0,  1,  2,  3,  4,  5,  6,  7,  8,  9, 10, 11, 12, 13, 14, 15])"
      ]
     },
     "execution_count": 88,
     "metadata": {},
     "output_type": "execute_result"
    }
   ],
   "source": [
    "# 11\n",
    "a = np.arange(0, 16)\n",
    "a"
   ]
  },
  {
   "cell_type": "code",
   "execution_count": 94,
   "id": "f13c06e5",
   "metadata": {},
   "outputs": [
    {
     "data": {
      "text/plain": [
       "array([[ 1.10382344e+13,  5.26315789e-02, -3.31147031e+13,\n",
       "         2.20764688e+13],\n",
       "       [-8.46264636e+13,  9.38249922e+13,  6.62294063e+13,\n",
       "        -7.54279349e+13],\n",
       "       [ 1.36138224e+14, -1.87649984e+14, -3.31147031e+13,\n",
       "         8.46264636e+13],\n",
       "       [-6.25499948e+13,  9.38249922e+13,  0.00000000e+00,\n",
       "        -3.12749974e+13]])"
      ]
     },
     "execution_count": 94,
     "metadata": {},
     "output_type": "execute_result"
    }
   ],
   "source": [
    "# 12\n",
    "C = a.reshape(4, 4)\n",
    "D = np.add(B, C * 10)\n",
    "np.linalg.det(D)\n",
    "np.linalg.matrix_rank(D)\n",
    "D_inv = np.linalg.inv(D)\n",
    "D_inv"
   ]
  },
  {
   "cell_type": "code",
   "execution_count": 95,
   "id": "286d83db",
   "metadata": {},
   "outputs": [
    {
     "data": {
      "text/plain": [
       "array([[1., 1., 0., 1.],\n",
       "       [0., 1., 1., 0.],\n",
       "       [1., 0., 0., 1.],\n",
       "       [0., 1., 0., 0.]])"
      ]
     },
     "execution_count": 95,
     "metadata": {},
     "output_type": "execute_result"
    }
   ],
   "source": [
    "# 13\n",
    "mask_neg = D_inv < 0\n",
    "mask_pos = D_inv > 0\n",
    "D_inv[mask_neg] = 0\n",
    "D_inv[mask_pos] = 1\n",
    "D_inv"
   ]
  },
  {
   "cell_type": "code",
   "execution_count": 96,
   "id": "a59bfbd2",
   "metadata": {},
   "outputs": [
    {
     "data": {
      "text/plain": [
       "array([[  5,  14,   2,  32],\n",
       "       [  4,  50,  86,   7],\n",
       "       [ 23,   9,  10, 212],\n",
       "       [ 12, 122,  14,  15]])"
      ]
     },
     "execution_count": 96,
     "metadata": {},
     "output_type": "execute_result"
    }
   ],
   "source": [
    "E = np.where(D_inv, B, C)\n",
    "E"
   ]
  },
  {
   "cell_type": "code",
   "execution_count": null,
   "id": "62cc314c",
   "metadata": {},
   "outputs": [],
   "source": []
  }
 ],
 "metadata": {
  "kernelspec": {
   "display_name": "Python 3 (ipykernel)",
   "language": "python",
   "name": "python3"
  },
  "language_info": {
   "codemirror_mode": {
    "name": "ipython",
    "version": 3
   },
   "file_extension": ".py",
   "mimetype": "text/x-python",
   "name": "python",
   "nbconvert_exporter": "python",
   "pygments_lexer": "ipython3",
   "version": "3.9.7"
  }
 },
 "nbformat": 4,
 "nbformat_minor": 5
}
